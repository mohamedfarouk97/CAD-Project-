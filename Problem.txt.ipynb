{
 "cells": [
  {
   "cell_type": "markdown",
   "metadata": {},
   "source": [
    "Problem 1:\n",
    "\n",
    "Nodes = 2\n",
    "\n",
    "branches = 4\n",
    "\n",
    "A = 1 1 -1 0 0 -1 0 1\n",
    "\n",
    "Zb = 5 0 0 0 0 10 0 0 0 0 5 0 0 0 0 5\n",
    "\n",
    "Eb = 0 0 10 0\n",
    "\n",
    "Ib = 0 0 0 0\n",
    "\n",
    "========================================================"
   ]
  },
  {
   "cell_type": "markdown",
   "metadata": {},
   "source": []
  }
 ],
 "metadata": {
  "kernelspec": {
   "display_name": "Python 3",
   "language": "python",
   "name": "python3"
  },
  "language_info": {
   "codemirror_mode": {
    "name": "ipython",
    "version": 3
   },
   "file_extension": ".py",
   "mimetype": "text/x-python",
   "name": "python",
   "nbconvert_exporter": "python",
   "pygments_lexer": "ipython3",
   "version": "3.7.6"
  }
 },
 "nbformat": 4,
 "nbformat_minor": 4
}
